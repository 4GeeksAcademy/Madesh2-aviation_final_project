{
 "cells": [
  {
   "cell_type": "markdown",
   "id": "fc0fa110",
   "metadata": {},
   "source": [
    "# Data acquisition"
   ]
  },
  {
   "cell_type": "code",
   "execution_count": 3,
   "id": "673eaffe",
   "metadata": {},
   "outputs": [],
   "source": [
    "import pandas as pd\n",
    "import functions.data_acquisition as data_funcs"
   ]
  },
  {
   "cell_type": "markdown",
   "id": "cb0c1f62",
   "metadata": {},
   "source": [
    "## 1. NTSB incident data\n",
    "\n",
    "Data source: [NTSB Downloadable Aviation Datasets](https://data.ntsb.gov/avdata)"
   ]
  },
  {
   "cell_type": "markdown",
   "id": "c3cd340f",
   "metadata": {},
   "source": [
    "### 1.1. Download"
   ]
  },
  {
   "cell_type": "code",
   "execution_count": null,
   "id": "15eb4f6d",
   "metadata": {},
   "outputs": [],
   "source": [
    "url='https://data.ntsb.gov/avdata/FileDirectory/DownloadFile?fileID=C%3A%5Cavdata%5Cavall.zip'\n",
    "data_funcs.download_data(url)"
   ]
  },
  {
   "cell_type": "markdown",
   "id": "5604392c",
   "metadata": {},
   "source": [
    "### 1.2. Parse\n",
    "\n",
    "Uses [access_parser](https://github.com/claroty/access_parser) to convert Microsoft Access database file to CSV and then read into Pandas DataFrame."
   ]
  },
  {
   "cell_type": "code",
   "execution_count": null,
   "id": "c7afdf7c",
   "metadata": {},
   "outputs": [],
   "source": [
    "file='avall.mdb'\n",
    "table=data_funcs.parse_mdb(file)\n"
   ]
  },
  {
   "cell_type": "markdown",
   "id": "6811c603",
   "metadata": {},
   "source": [
    "### 1.3. Read"
   ]
  },
  {
   "cell_type": "code",
   "execution_count": null,
   "id": "35da44ad",
   "metadata": {},
   "outputs": [],
   "source": [
    "aircraft_df=pd.read_csv('../data/raw/aircraft.csv',low_memory=False)\n",
    "aircraft_df.head()"
   ]
  },
  {
   "cell_type": "code",
   "execution_count": null,
   "id": "c2dd9d57",
   "metadata": {},
   "outputs": [],
   "source": [
    "events_df=pd.read_csv('../data/raw/events.csv',low_memory=False)\n",
    "events_df.head()"
   ]
  },
  {
   "cell_type": "markdown",
   "id": "d8399cbe",
   "metadata": {},
   "source": [
    "## 2. On-time performance data\n",
    "\n",
    "### 2.1. Get download links"
   ]
  },
  {
   "cell_type": "code",
   "execution_count": null,
   "id": "32e59536",
   "metadata": {},
   "outputs": [],
   "source": [
    "url='https://www.bts.gov/browse-statistical-products-and-data/bts-publications/airline-service-quality-performance-234-time'\n",
    "links=data_funcs.get_ontime_links(url)"
   ]
  },
  {
   "cell_type": "markdown",
   "id": "226d4e48",
   "metadata": {},
   "source": [
    "### 2.2. Download on-time data"
   ]
  },
  {
   "cell_type": "code",
   "execution_count": null,
   "id": "519b0b29",
   "metadata": {},
   "outputs": [],
   "source": [
    "n_files=3\n",
    "\n",
    "data_funcs.download_ontime_data(links[:n_files])"
   ]
  },
  {
   "cell_type": "markdown",
   "id": "a0c8ea2a",
   "metadata": {},
   "source": [
    "### 2.3. Parse and combine on-time datafiles"
   ]
  },
  {
   "cell_type": "code",
   "execution_count": null,
   "id": "a9d46dd5",
   "metadata": {},
   "outputs": [],
   "source": [
    "data_df=data_funcs.read_asc_datafiles(n_files)"
   ]
  },
  {
   "cell_type": "code",
   "execution_count": null,
   "id": "3fb1761c",
   "metadata": {},
   "outputs": [],
   "source": [
    "data_df.head()"
   ]
  },
  {
   "cell_type": "code",
   "execution_count": null,
   "id": "5d5786c6",
   "metadata": {},
   "outputs": [],
   "source": [
    "data_df.info()"
   ]
  },
  {
   "cell_type": "markdown",
   "id": "92f28453",
   "metadata": {},
   "source": [
    "### 2.3. Save as CSV"
   ]
  },
  {
   "cell_type": "code",
   "execution_count": null,
   "id": "44f55b63",
   "metadata": {},
   "outputs": [],
   "source": [
    "data_df.to_csv('../data/raw/on_time.csv', index=False)"
   ]
  }
 ],
 "metadata": {
  "kernelspec": {
   "display_name": "Python 3",
   "language": "python",
   "name": "python3"
  },
  "language_info": {
   "codemirror_mode": {
    "name": "ipython",
    "version": 3
   },
   "file_extension": ".py",
   "mimetype": "text/x-python",
   "name": "python",
   "nbconvert_exporter": "python",
   "pygments_lexer": "ipython3",
   "version": "3.11.4"
  }
 },
 "nbformat": 4,
 "nbformat_minor": 5
}
